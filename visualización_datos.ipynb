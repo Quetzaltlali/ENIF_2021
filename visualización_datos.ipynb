{
  "nbformat": 4,
  "nbformat_minor": 0,
  "metadata": {
    "colab": {
      "provenance": [],
      "authorship_tag": "ABX9TyM7Sw3W8HNW8Nal6QjuYHIv",
      "include_colab_link": true
    },
    "kernelspec": {
      "name": "python3",
      "display_name": "Python 3"
    },
    "language_info": {
      "name": "python"
    }
  },
  "cells": [
    {
      "cell_type": "markdown",
      "metadata": {
        "id": "view-in-github",
        "colab_type": "text"
      },
      "source": [
        "<a href=\"https://colab.research.google.com/github/Quetzaltlali/ENIF_2021/blob/main/visualizaci%C3%B3n_datos.ipynb\" target=\"_parent\"><img src=\"https://colab.research.google.com/assets/colab-badge.svg\" alt=\"Open In Colab\"/></a>"
      ]
    },
    {
      "cell_type": "markdown",
      "source": [
        "## VISUALIZACIÓN DE DATOS\n",
        "\n",
        "\n",
        "---\n",
        "\n",
        "**Diseño de gráficos eficientes para describir la situación de contenedores\n",
        "de basura en tu comunidad.**\n",
        "\n",
        "En este proyecto, abordaremos el desafío de la mala gestión de residuos en nuestra comunidad utilizando técnicas de programación. Basándonos en la información proporcionada por la Secretaría del Medio Ambiente y las políticas del gobierno de la Ciudad de México, estamos desarrollando un código que nos permitirá analizar y visualizar datos relacionados con la generación y gestión de residuos en nuestra alcaldía. A través de este código, buscamos identificar patrones, tendencias y anomalías en los datos, lo que nos ayudará a comprender mejor la situación actual y tomar decisiones informadas para mejorar la gestión de residuos en nuestra comunidad."
      ],
      "metadata": {
        "id": "ISpiJrz4wA6d"
      }
    },
    {
      "cell_type": "markdown",
      "source": [],
      "metadata": {
        "id": "3-7AYTBYxsb2"
      }
    }
  ]
}